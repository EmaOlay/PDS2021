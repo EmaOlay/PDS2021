{
 "cells": [
  {
   "cell_type": "markdown",
   "id": "f8cb4636",
   "metadata": {},
   "source": [
    "# Procesamiento Digital de Señales <img src=\"./logo_UTN.svg\" align=\"right\" width=\"150\"/>\n",
    "## Alumno: Emanuel Olay\n",
    "### Tarea Semanal: 7\n",
    "### Consigna:\n",
    "En esta tarea continuaremos con el capítulo 14 de Holton. DSP Principles and App.\n",
    "\n",
    "Para ello, realizaremos el punto 3.a del TP2.\n",
    "\n",
    "3- Genere la siguiente señal\n",
    "\n",
    "$$x_{(k)}=a_0*sen(Ω1*k)$$\n",
    "\n",
    "siendo\n",
    "\n",
    "$$a_0=2$$\n",
    "$$Ω1=Ω0+fr⋅2πN$$\n",
    "$$Ω0=π2$$\n",
    "y la variable aleatoria definida por la siguiente distribución de probabilidad\n",
    "\n",
    "$fr∼U(−2,2)$\n",
    "\n",
    "\n",
    "Considere 200 realizaciones (muestras tomadas de fr) para cada ventana analizada en la TS6. Se pide entonces:\n",
    "\n",
    "3.a) Grafique los histogramas de\n",
    "$|Xiw(Ω0)|$\n",
    "\n",
    "\n",
    "siendo\n",
    "\n",
    "$|X^i_w(Ω)|=|F\\{x(k)*w_i(k)\\}|$\n",
    "para la i-ésima ventana de las 5 utilizadas en la TS6. El sesgo y la varianza se definen para este caso como:\n",
    "\n",
    " Grafique los 5 histogramas juntos, o cuide que todos los gráficos tengan el mismo rango de valores en X para facilitar la comparación visual.\n",
    "3.b) Calcule experimentalmente el sesgo y la varianza del siguiente estimador:\n",
    "$$\\hat a_0=|X^i_w(Ω0)|$$\n",
    "siendo\n",
    "\n",
    "$sa=E{\\hat a_0}−a0$\n",
    "\n",
    "$va=var\\{\\hat a0\\}=E\\{(\\hat a0 −E\\{\\hat a0\\})^2\\}$\n",
    "y pueden aproximarse cuando consideramos los valores esperados como las medias muestrales\n",
    "\n",
    "$E{a0^}=μa^=1M∑j=0M−1aj^$\n",
    "\n",
    "$sa=μa^−a0$\n",
    "\n",
    "$va=1/M∑j=0M−1(aj^−μa^)^2$\n",
    "\n",
    "\n",
    "Estimación de Amplitud \n",
    " \n",
    " \n",
    "sa\tva\n",
    "Rectangular\t \t \n",
    "Bartlett\t \t \n",
    "Hann\t \t \n",
    "Blackman\t \t \n",
    "Flat-top\t \t \n",
    "Bonus\n",
    "Visualizar los 5 histogramas juntos"
   ]
  },
  {
   "cell_type": "code",
   "execution_count": 27,
   "id": "89af342f",
   "metadata": {},
   "outputs": [],
   "source": [
    "# -*- coding: utf-8 -*-\n",
    "\"\"\"\n",
    "Created on Wed Oct 13 20:52:38 2021\n",
    "\n",
    "@author: Ema\n",
    "\"\"\"\n",
    "import numpy as np\n",
    "import matplotlib.pyplot as plt\n",
    "import scipy.signal as sig\n",
    "from scipy.fft import fft, fftshift\n",
    "import matplotlib.patches as mpatches\n",
    "from pandas import DataFrame\n",
    "from IPython.display import HTML"
   ]
  },
  {
   "cell_type": "code",
   "execution_count": 28,
   "id": "a17ff86e",
   "metadata": {},
   "outputs": [],
   "source": [
    "#######################################################################################################################\n",
    "#%% Inicio de la simulación\n",
    "#######################################################################################################################\n",
    "plt.close('all')\n",
    "\n",
    "# Datos generales de la simulación\n",
    "fs = 1000 # frecuencia de muestreo (Hz)\n",
    "N = 1000   # cantidad de muestras\n",
    "\n",
    "figura=0\n",
    " \n",
    "ts = 1/fs # tiempo de muestreo\n",
    "df = fs/N # resolución espectral\n",
    "\n",
    "t=np.arange(0,1,ts)\n",
    "f=np.arange(0,fs,df)\n",
    "####################\n",
    "###Armo la se;al\n",
    "####################\n",
    "a0=2\n",
    "omega_0=np.pi/2\n",
    "fr=np.random.uniform(low=-2, high=2, size=200)\n",
    "omega_1=omega_0+fr*2*np.pi/N\n",
    "## como uno es de (200,1) y el otro es de (1000,1) no puedo hacer el producto\n",
    "##cambio los ejes para que sea (200,1)*(1,1000)\n",
    "\n",
    "x=np.sin(2*np.pi*omega_1.reshape(1,200)*(fs/(2*np.pi))*t.reshape(1000,1))\n",
    "#plt.plot(t,x)"
   ]
  },
  {
   "cell_type": "code",
   "execution_count": 29,
   "id": "1505ffe0",
   "metadata": {},
   "outputs": [],
   "source": [
    "#######################\n",
    "#Ventaneo\n",
    "#######################\n",
    "Rectangular=sig.windows.boxcar(N)\n",
    "##python al ver los primeros indices iguales extiende la segunda\n",
    "x_rectangular=x*Rectangular.reshape(1000,1)\n",
    "#plt.plot(t,x_rectangular)\n",
    "x_rectangular_fft=fft(x_rectangular,axis=0)*(1/N)\n",
    "#Bartlett\n",
    "Bartlett=np.bartlett(N)\n",
    "##python al ver los primeros indices iguales extiende la segunda\n",
    "x_Bartlett=x*Bartlett.reshape(1000,1)\n",
    "#plt.plot(t,x_Bartlett)\n",
    "x_Bartlett_fft=fft(x_Bartlett,axis=0)*(1/N)\n",
    "#Hann\n",
    "Hann=np.hanning(N)\n",
    "x_Hann=x*Hann.reshape(1000,1)\n",
    "#plt.plot(t,x_Hann)\n",
    "x_Hann_fft=fft(x_Hann,axis=0)*(1/N)\n",
    "#Blackman\n",
    "Blackman=np.blackman(N)\n",
    "x_Blackman=x*Blackman.reshape(1000,1)\n",
    "#plt.plot(t,x_Blackman)\n",
    "x_Blackman_fft=fft(x_Blackman,axis=0)*(1/N)\n",
    "#Flattop\n",
    "Flattop=sig.windows.flattop(N)\n",
    "x_Flattop=x*Flattop.reshape(1000,1)\n",
    "#plt.plot(t,x_Flattop)\n",
    "x_Flattop_fft=fft(x_Flattop,axis=0)*(1/N)"
   ]
  },
  {
   "cell_type": "code",
   "execution_count": 30,
   "id": "28c07df8",
   "metadata": {},
   "outputs": [],
   "source": [
    "#######################\n",
    "#Modulo de la transformada ventaneada\n",
    "#######################\n",
    "#Rectangular\n",
    "x_rectangular_mag=np.abs(x_rectangular_fft)\n",
    "# plt.plot(f,x_rectangular_mag)\n",
    "# plt.title('fft x rectangular')\n",
    "# plt.xlabel('frecuencia [Hz]')\n",
    "# plt.xlim(0,500)\n",
    "# plt.ylabel('Magnitud')\n",
    "\n",
    "#Bartlett\n",
    "x_Bartlett_mag=np.abs(x_Bartlett_fft)\n",
    "#Hann\n",
    "x_Hann_mag=np.abs(x_Hann_fft)\n",
    "#Blackman\n",
    "x_Blackman_mag=np.abs(x_Blackman_fft)\n",
    "#Flattop\n",
    "x_Flattop_mag=np.abs(x_Flattop_fft)"
   ]
  },
  {
   "cell_type": "code",
   "execution_count": 31,
   "id": "02def8a3",
   "metadata": {},
   "outputs": [],
   "source": [
    "width=15\n",
    "height=5\n",
    "plt.rcParams['figure.figsize'] = [width, height]"
   ]
  },
  {
   "cell_type": "code",
   "execution_count": 32,
   "id": "764d5534",
   "metadata": {},
   "outputs": [
    {
     "data": {
      "text/plain": [
       "Text(0.5, 0, 'Bin')"
      ]
     },
     "execution_count": 32,
     "metadata": {},
     "output_type": "execute_result"
    },
    {
     "data": {
      "image/png": "[encoded data removed]",
      "text/plain": [
       "<Figure size 1080x360 with 1 Axes>"
      ]
     },
     "metadata": {
      "needs_background": "light"
     },
     "output_type": "display_data"
    }
   ],
   "source": [
    "#######################\n",
    "#Ploteo histogramas\n",
    "#######################\n",
    "a1_g_rectangular=np.abs(x_rectangular_mag[250])\n",
    "plt.hist(a1_g_rectangular,bins='auto')\n",
    "\n",
    "a1_g_Bartlett=np.abs(x_Bartlett_mag[250])\n",
    "plt.hist(a1_g_Bartlett,bins='auto')\n",
    "\n",
    "a1_g_Hann=np.abs(x_Hann_mag[250])\n",
    "plt.hist(a1_g_Hann,bins='auto')\n",
    "\n",
    "a1_g_Blackman=np.abs(x_Blackman_mag[250])\n",
    "plt.hist(a1_g_Blackman,bins='auto')\n",
    "\n",
    "a1_g_Flattop=np.abs(x_Flattop_mag[250])\n",
    "plt.hist(a1_g_Flattop,bins='auto')\n",
    "plt.title('Histograma de los estimadores')\n",
    "plt.ylabel('Veces')\n",
    "plt.xlabel('Bin')"
   ]
  },
  {
   "cell_type": "code",
   "execution_count": 33,
   "id": "393c0e1d",
   "metadata": {},
   "outputs": [
    {
     "data": {
      "text/html": [
       "<table border=\"1\" class=\"dataframe\">\n",
       "  <thead>\n",
       "    <tr style=\"text-align: right;\">\n",
       "      <th></th>\n",
       "      <th>$s_a$</th>\n",
       "      <th>$v_a$</th>\n",
       "    </tr>\n",
       "  </thead>\n",
       "  <tbody>\n",
       "    <tr>\n",
       "      <th>Rectangular</th>\n",
       "      <td>-1.829469</td>\n",
       "      <td>0.023592</td>\n",
       "    </tr>\n",
       "    <tr>\n",
       "      <th>Bartlett</th>\n",
       "      <td>-1.887737</td>\n",
       "      <td>0.007296</td>\n",
       "    </tr>\n",
       "    <tr>\n",
       "      <th>Hann</th>\n",
       "      <td>-1.873346</td>\n",
       "      <td>0.006784</td>\n",
       "    </tr>\n",
       "    <tr>\n",
       "      <th>Blackman</th>\n",
       "      <td>-1.877424</td>\n",
       "      <td>0.003733</td>\n",
       "    </tr>\n",
       "    <tr>\n",
       "      <th>Flat-top</th>\n",
       "      <td>-1.901164</td>\n",
       "      <td>0.000124</td>\n",
       "    </tr>\n",
       "  </tbody>\n",
       "</table>"
      ],
      "text/plain": [
       "<IPython.core.display.HTML object>"
      ]
     },
     "execution_count": 33,
     "metadata": {},
     "output_type": "execute_result"
    }
   ],
   "source": [
    "#######################\n",
    "#Calculo de sesgo y varianza\n",
    "#######################\n",
    "\n",
    "# media muestral: mu_a = 1/M.SUM{â_j} de 0 a M-1\n",
    "\n",
    "E_rectangular=np.mean(a1_g_rectangular)\n",
    "E_Bartlett=np.mean(a1_g_Bartlett)\n",
    "E_Hann=np.mean(a1_g_Hann)\n",
    "E_Blackman=np.mean(a1_g_Blackman)\n",
    "E_Flattop=np.mean(a1_g_Flattop)\n",
    "\n",
    "#Sesgo: s = mu - a0\n",
    "\n",
    "s_rectangular = E_rectangular - a0\n",
    "s_Bartlett = E_Bartlett - a0\n",
    "s_Hann = E_Hann - a0\n",
    "s_Blackman = E_Blackman - a0\n",
    "s_Flattop = E_Flattop - a0\n",
    "\n",
    "#Varianza: Var(x)=E[(X-mu)**2]\n",
    "\n",
    "var_rectangular = np.var(a1_g_rectangular)\n",
    "var_Bartlett = np.var(a1_g_Bartlett)\n",
    "var_Hann = np.var(a1_g_Hann)\n",
    "var_Blackman = np.var(a1_g_Blackman)\n",
    "var_Flattop = np.var(a1_g_Flattop)\n",
    "\n",
    "# Muestro los datos\n",
    "\n",
    "data = [[s_rectangular, var_rectangular],\n",
    "        [s_Bartlett, var_Bartlett],\n",
    "        [s_Hann, var_Hann],\n",
    "        [s_Blackman, var_Blackman],\n",
    "        [s_Flattop, var_Flattop]]\n",
    "\n",
    "df = DataFrame(data,columns=['$s_a$', '$v_a$'],\n",
    "                index=[  \n",
    "                        'Rectangular',\n",
    "                        'Bartlett',\n",
    "                        'Hann',\n",
    "                        'Blackman',\n",
    "                        'Flat-top'\n",
    "                      ])\n",
    "HTML(df.to_html())"
   ]
  },
  {
   "cell_type": "markdown",
   "id": "f4d5adce",
   "metadata": {},
   "source": [
    "# Conclusion:\n",
    "A partir de observar el grafico podemos notar como las varianzas y sesgos de los distintos estimadores.<br>\n",
    "Viendo por ejemplo que el estimador azul(Rectangular) es el mas insesgado pero a su vez el de mayor varianza.<br>\n",
    "Mientras que el violeta(Flat-top) es el mas sesgado y el de menor varianza, que en este caso es el mas util ya que a pesar de que no se logra acercar al resultado esperado, es el mas consistente con sus mediciones y por lo tanto es facil de implementar luego de ser calibrado."
   ]
  },
  {
   "cell_type": "code",
   "execution_count": null,
   "id": "640c1f72",
   "metadata": {},
   "outputs": [],
   "source": []
  }
 ],
 "metadata": {
  "kernelspec": {
   "display_name": "Python 3 (ipykernel)",
   "language": "python",
   "name": "python3"
  },
  "language_info": {
   "codemirror_mode": {
    "name": "ipython",
    "version": 3
   },
   "file_extension": ".py",
   "mimetype": "text/x-python",
   "name": "python",
   "nbconvert_exporter": "python",
   "pygments_lexer": "ipython3",
   "version": "3.8.8"
  },
  "varInspector": {
   "cols": {
    "lenName": 16,
    "lenType": 16,
    "lenVar": 40
   },
   "kernels_config": {
    "python": {
     "delete_cmd_postfix": "",
     "delete_cmd_prefix": "del ",
     "library": "var_list.py",
     "varRefreshCmd": "print(var_dic_list())"
    },
    "r": {
     "delete_cmd_postfix": ") ",
     "delete_cmd_prefix": "rm(",
     "library": "var_list.r",
     "varRefreshCmd": "cat(var_dic_list()) "
    }
   },
   "types_to_exclude": [
    "module",
    "function",
    "builtin_function_or_method",
    "instance",
    "_Feature"
   ],
   "window_display": false
  }
 },
 "nbformat": 4,
 "nbformat_minor": 5
}
