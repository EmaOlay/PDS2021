{
 "cells": [
  {
   "cell_type": "markdown",
   "id": "4770da3f",
   "metadata": {},
   "source": [
    "# Procesamiento Digital de Señales <img src=\"./logo_UTN.svg\" align=\"right\" width=\"150\"/>\n",
    "## Alumno: Emanuel Olay\n",
    "### Tarea Semanal: 3\n",
    "### Consigna: \n",
    "En esta tarea simularemos el comportamiento de un ADC y cómo sus parámetros, tamaño de palabra de B bits y frecuencia de muestreo $f_s$ afectan a una señal (aproximadamente) analógica.\n",
    "\n",
    "Para ello se puede analizar una senoidal con los siguientes parámetros:\n",
    "\n",
    "frecuencia $f_0$ arbitraria, por ejemplo $f_0=f_S/N=\\Delta f$, \n",
    "Amplitud normalizada, es decir unitaria\n",
    "Se pide diseñar un bloque cuantizador que opere sobre una señal discreta en tiempo $s_R$, de forma tal que para un ADC de B bits y rango ±VF, el operador.\n",
    "\n",
    "$$s_Q=Q_{B,VF}(s_R)$$\n",
    "\n",
    "\n",
    "generará una $s_Q$ comprendida entre $±VF$ y con valores discretos establecidos por el paso de cuantización $q=\\frac{2.V_F}{2^B−1}\\approx \\frac{V_F}{2^{B−1}} $(Volts).\n",
    "\n",
    "Visualice en una misma gráfica $s_R$ y $s_Q$, donde se pueda observar que tienen el mismo rango en Volts y el efecto de la cuantización para $V_F=2$ Volts y  $B = 4, 8$ y $16$ bits."
   ]
  },
  {
   "cell_type": "code",
   "execution_count": 1,
   "id": "4e92f822",
   "metadata": {},
   "outputs": [
    {
     "name": "stdout",
     "output_type": "stream",
     "text": [
      "Once deleted, variables cannot be recovered. Proceed (y/[n])? y\n",
      "Using matplotlib backend: Qt5Agg\n"
     ]
    }
   ],
   "source": [
    "%reset\n",
    "import numpy as np\n",
    "import matplotlib.pyplot as plt\n",
    "import scipy.signal as sig\n",
    "import scipy.stats as stats\n",
    "import matplotlib.patches as mpatches\n",
    "from scipy.fft import fft\n",
    "%matplotlib\n",
    "\n",
    "plt.ion\n",
    "plt.rcParams['figure.figsize'] = (13,6)"
   ]
  },
  {
   "cell_type": "code",
   "execution_count": 2,
   "id": "c372e0d0",
   "metadata": {},
   "outputs": [],
   "source": [
    "N = 300 # muestras\n",
    "fs= 500 #Hz\n",
    "B = [4,8,16] # bits\n",
    "V_f=2 # volts\n",
    "## Declaro los pasos para cada bit distinto\n",
    "q = [0]*len(B)\n",
    "for i in range(len(B)):\n",
    "    q[i] = V_f/2**(B[i]-1)\n",
    "\n",
    "\n",
    "##vector tiempo de 0 a 1, no incluido, con N saltos\n",
    "t = np.linspace(0, 1, N, endpoint=False)\n",
    "\n",
    "##Noise\n",
    "noise=[[0]*N]*len(B)\n",
    "for i in range(len(B)):\n",
    "    noise[i] = np.random.normal(0, q[i]/2, len(t))\n",
    "\n",
    "#senoidal de amplitud 1 y 1 hz de frecuencia\n",
    "amp=1 #amplitud en volts\n",
    "freq=1 #fs/N #frecuencia en Hz\n",
    "fase=0 #radianes\n",
    "seno_cont=[[0]*N]*len(B)\n",
    "for i in range(len(B)):\n",
    "    seno_cont[i] = amp*np.sin(2 * np.pi * freq * t + fase) + noise[i]\n",
    "\n",
    "\n",
    "e=[0]*len(B)\n",
    "corr=[0]*len(B)\n",
    "valor_medio=[0]*len(B)\n",
    "muestreada=[[0]*N]*len(B)\n",
    "DEP=[[0]*N]*len(B)"
   ]
  },
  {
   "cell_type": "code",
   "execution_count": 3,
   "id": "bb91a15c",
   "metadata": {},
   "outputs": [],
   "source": [
    "##Analizo el ruido\n",
    "for i in range(len(B)):\n",
    "    DEP[i]=np.abs(fft(noise[i]))**2\n",
    "    #energia_freq= sum(np.abs(noise[i])**2)"
   ]
  },
  {
   "cell_type": "code",
   "execution_count": 4,
   "id": "bd520143",
   "metadata": {},
   "outputs": [],
   "source": [
    "for i in range(len(B)):\n",
    "    muestreada[i]=np.round(seno_cont[i]/q[i])*q[i]\n",
    "    plt.figure(i)\n",
    "    plt.plot(t,seno_cont[i])\n",
    "    plt.stem(t, muestreada[i])\n",
    "    plt.title('Continua vs Muestreada con Bits='+str(B[i]))\n",
    "    plt.xlabel('Tiempo [s]')\n",
    "    plt.ylabel('Volts [V]')\n",
    "    notita = mpatches.Patch(label='Resolucion:'+str(q[i]))\n",
    "    plt.legend(handles=[notita])"
   ]
  },
  {
   "cell_type": "code",
   "execution_count": 5,
   "id": "23f1b940",
   "metadata": {},
   "outputs": [],
   "source": [
    "for i in range(len(B)):\n",
    "    e[i]=seno_cont[i]-muestreada[i]\n",
    "    plt.figure('1-'+str(i))\n",
    "    plt.stem(t,e[i])\n",
    "    plt.title('Error'+str(i))\n",
    "    plt.xlabel('Tiempo [s]')\n",
    "    plt.ylabel('Volts [V]')"
   ]
  },
  {
   "cell_type": "code",
   "execution_count": 6,
   "id": "ea63825e",
   "metadata": {},
   "outputs": [],
   "source": [
    "# for i in range(len(B)):\n",
    "#     nobs, minmax, mean, variance, skewness, kurtosis=stats.describe(e[i])\n",
    "#     print('Media     [',i,']=',mean)\n",
    "#     print('Varianza  [',i,']=',variance)"
   ]
  },
  {
   "cell_type": "code",
   "execution_count": 7,
   "id": "4081d047",
   "metadata": {},
   "outputs": [],
   "source": [
    "for i in range(len(B)):\n",
    "    corr[i] = sig.correlate(e[i], e[i], mode='same')\n",
    "    plt.figure('2-'+str(i))\n",
    "    plt.stem(t,corr[i])\n",
    "    plt.title('Correlacion Error'+str(i)+'-Error'+str(i))\n",
    "    plt.xlabel('Tiempo [s]')\n",
    "    plt.ylabel('Volts [V]')"
   ]
  },
  {
   "cell_type": "code",
   "execution_count": 8,
   "id": "90a6318e",
   "metadata": {},
   "outputs": [],
   "source": [
    "for i in range(len(B)):\n",
    "    plt.figure('3-'+str(i))\n",
    "    count, bins, ignored=plt.hist(e[i])\n",
    "    plt.title('Histograma del Error')\n",
    "    plt.xlabel('Valor de la variable')\n",
    "    plt.ylabel('Conteo')"
   ]
  },
  {
   "cell_type": "code",
   "execution_count": 9,
   "id": "be0480fe",
   "metadata": {},
   "outputs": [],
   "source": [
    "for i in range(len(B)):\n",
    "    plt.figure('4-'+str(i))\n",
    "    plt.stem(t,DEP[i])\n",
    "    plt.title('Densisdad Espectral de potencia del Ruido')\n",
    "    plt.xlabel('Frecuencia [hz]')\n",
    "    plt.ylabel('Watts [W]')"
   ]
  },
  {
   "cell_type": "code",
   "execution_count": 10,
   "id": "d162e47c",
   "metadata": {},
   "outputs": [
    {
     "name": "stdout",
     "output_type": "stream",
     "text": [
      "potencia total= 5.774644060525166\n",
      "potencia total= 0.017184603592370753\n",
      "potencia total= 2.783611786252761e-07\n"
     ]
    }
   ],
   "source": [
    "for i in range(len(B)):\n",
    "    corr[i] = sig.correlate(noise[i], noise[i], mode='same')\n",
    "    plt.figure('5-'+str(i))\n",
    "    plt.stem(t,corr[i])\n",
    "    plt.title('Correlacion Ruido')\n",
    "    plt.xlabel('Tiempo [s]')\n",
    "    plt.ylabel('Volts [V]')\n",
    "    pot_tot=np.sum(DEP[i])/N\n",
    "    print('potencia total=',pot_tot)"
   ]
  }
 ],
 "metadata": {
  "kernelspec": {
   "display_name": "Python 3",
   "language": "python",
   "name": "python3"
  },
  "language_info": {
   "codemirror_mode": {
    "name": "ipython",
    "version": 3
   },
   "file_extension": ".py",
   "mimetype": "text/x-python",
   "name": "python",
   "nbconvert_exporter": "python",
   "pygments_lexer": "ipython3",
   "version": "3.8.8"
  },
  "varInspector": {
   "cols": {
    "lenName": 16,
    "lenType": 16,
    "lenVar": 40
   },
   "kernels_config": {
    "python": {
     "delete_cmd_postfix": "",
     "delete_cmd_prefix": "del ",
     "library": "var_list.py",
     "varRefreshCmd": "print(var_dic_list())"
    },
    "r": {
     "delete_cmd_postfix": ") ",
     "delete_cmd_prefix": "rm(",
     "library": "var_list.r",
     "varRefreshCmd": "cat(var_dic_list()) "
    }
   },
   "position": {
    "height": "579.025px",
    "left": "904.425px",
    "right": "20px",
    "top": "99.975px",
    "width": "372.013px"
   },
   "types_to_exclude": [
    "module",
    "function",
    "builtin_function_or_method",
    "instance",
    "_Feature"
   ],
   "window_display": false
  }
 },
 "nbformat": 4,
 "nbformat_minor": 5
}
