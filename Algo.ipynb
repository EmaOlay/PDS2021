{
 "cells": [
  {
   "cell_type": "markdown",
   "id": "3da08fb5",
   "metadata": {},
   "source": [
    "# Procesamiento Digital de Señales <img src=\"./logo_UTN.svg\" align=\"right\" width=\"150\"/>\n",
    "## Alumno: Emanuel Olay\n",
    "### Tarea Semanal: 2\n",
    "### Consigna: Implementar una DFT\n",
    "XX = mi_funcion_DFT( xx )\n",
    "### Bonus\n",
    "Probar las mismas experiencias con la transformada rápida de Fourier (DFT rápida se llama FFT).\n",
    "Calcular la DFT de una señal aleatoria, por ejemplo ruido uniforme de varianza σ² = 4. Pueden encontrar cómo depende la varianza de los parámetros de la distribución aquí."
   ]
  },
  {
   "cell_type": "code",
   "execution_count": 1,
   "id": "cb2a6162",
   "metadata": {},
   "outputs": [],
   "source": [
    "import numpy as np\n",
    "import matplotlib.pyplot as plt\n",
    "import matplotlib.patches as mpatches\n",
    "from scipy import signal"
   ]
  },
  {
   "cell_type": "code",
   "execution_count": null,
   "id": "21a19317",
   "metadata": {},
   "outputs": [],
   "source": [
    "fs = 10e3\n",
    "N = 1e5\n",
    "amp = 1\n",
    "freq = 1\n",
    "t = np.arange(N) / fs\n",
    "seno = amp*np.sin(2*np.pi*freq*t)"
   ]
  },
  {
   "cell_type": "code",
   "execution_count": null,
   "id": "cd04f6e4",
   "metadata": {},
   "outputs": [],
   "source": [
    "def XX = mi_funcion_DFT( xx ):\n",
    "    \n",
    "    for i in range(xx):\n",
    "        y[k] = np.sum(xx * np.exp(-2j * np.pi * k * np.arange(xx)/xx))"
   ]
  },
  {
   "cell_type": "markdown",
   "id": "94fa45dd",
   "metadata": {},
   "source": [
    "XX = mi_funcion_DFT( xx )\n",
    "Probar las mismas experiencias con la transformada rápida de Fourier (DFT rápida se llama FFT).\n",
    "Calcular la DFT de una señal aleatoria, por ejemplo ruido uniforme de varianza σ² = 4. Pueden encontrar cómo depende la varianza de los parámetros de la distribución aquí."
   ]
  }
 ],
 "metadata": {
  "kernelspec": {
   "display_name": "Python 3",
   "language": "python",
   "name": "python3"
  },
  "language_info": {
   "codemirror_mode": {
    "name": "ipython",
    "version": 3
   },
   "file_extension": ".py",
   "mimetype": "text/x-python",
   "name": "python",
   "nbconvert_exporter": "python",
   "pygments_lexer": "ipython3",
   "version": "3.8.8"
  }
 },
 "nbformat": 4,
 "nbformat_minor": 5
}
