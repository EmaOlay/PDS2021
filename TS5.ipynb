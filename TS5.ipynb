{
 "cells": [
  {
   "cell_type": "markdown",
   "id": "77ddbd3b",
   "metadata": {},
   "source": [
    "# Procesamiento Digital de Señales <img src=\"./logo_UTN.svg\" align=\"right\" width=\"150\"/>\n",
    "## Alumno: Emanuel Olay\n",
    "### Tarea Semanal: 5\n",
    "### Consigna:\n",
    "a) Sea k0={N/4,N/4+0.025,N/4+0.5}. Notar que a cada senoidal se le agrega una pequeña desintonía respecto a  Δf. Graficar las tres densidades espectrales de potencia (PDS's) y discutir cuál es el efecto de dicha desintonía en el espectro visualizado.\n",
    "\n",
    "b) Verificar la potencia unitaria de cada PSD. En base a la teoría estudiada, ¿cuál es la razón por la cual una señal senoidal tiene un espectro (PSD) tan diferente respecto a otra de muy pocos Hertz de diferencia?\n",
    "\n",
    "Bonus:\n",
    "\n",
    "💎 Repetir el experimento mediante la técnica de zero padding. Dicha técnica consiste en agregar ceros al final de la señal para aumentar Δf de forma ficticia. Probar agregando un vector de 9*N ceros al final. Discuta los resultados obtenidos."
   ]
  },
  {
   "cell_type": "code",
   "execution_count": 68,
   "id": "be414f2d",
   "metadata": {},
   "outputs": [],
   "source": [
    "# -*- coding: utf-8 -*-\n",
    "\"\"\"\n",
    "Created on Tue Sep 21 15:52:46 2021\n",
    "\n",
    "@author: Ema\n",
    "Bilbio para la res de esta tarea Holton pag 888\n",
    "\"\"\"\n",
    "\n",
    "import numpy as np\n",
    "import matplotlib.pyplot as plt\n",
    "import scipy.signal as sig\n",
    "import scipy.stats as stats\n",
    "import matplotlib.patches as mpatches\n",
    "from scipy.fft import *\n"
   ]
  },
  {
   "cell_type": "code",
   "execution_count": 69,
   "id": "10979096",
   "metadata": {},
   "outputs": [],
   "source": [
    "#%% Set-UP\n",
    "plt.close(\"all\")\n",
    "N = 1000 # muestras\n",
    "fs= 1000 #Hz\n",
    "\n",
    "ts = 1/fs # tiempo de muestreo\n",
    "\n",
    "t=np.arange(0,1,ts)\n",
    "\n",
    "K0=N/4\n",
    "K1=N/4+0.25\n",
    "K2=N/4+0.5"
   ]
  },
  {
   "cell_type": "code",
   "execution_count": 70,
   "id": "5ef183e7",
   "metadata": {},
   "outputs": [],
   "source": [
    "#%% Config de mi seno y vector de frecuencia\n",
    "#senoidal de amplitud 1\n",
    "amp=1 #amplitud en volts\n",
    "freq0=K0*fs/N #frecuencia en Hz\n",
    "\n",
    "fase=0 #radianes\n",
    "df=fs/N\n",
    "f=np.arange(0,fs,df)\n",
    "bfrec = f <= fs/2\n",
    "seno_cont0 = amp*np.sin(2 * np.pi * freq0 * t + fase)"
   ]
  },
  {
   "cell_type": "code",
   "execution_count": 71,
   "id": "ebe48f7e",
   "metadata": {},
   "outputs": [],
   "source": [
    "#%%Config del seno 2\n",
    "freq1=K1*fs/N #frecuencia en Hz\n",
    "seno_cont1 = np.sqrt(amp)*np.sin(2 * np.pi * freq1 * t + fase)"
   ]
  },
  {
   "cell_type": "code",
   "execution_count": 72,
   "id": "bf4072c5",
   "metadata": {},
   "outputs": [],
   "source": [
    "#%%Config del seno 3\n",
    "freq2=K2*fs/N #frecuencia en Hz\n",
    "seno_cont2 = amp*np.sin(2 * np.pi * freq2 * t + fase)"
   ]
  },
  {
   "cell_type": "code",
   "execution_count": 73,
   "id": "305bafb3",
   "metadata": {},
   "outputs": [
    {
     "name": "stdout",
     "output_type": "stream",
     "text": [
      "Potencia del seno cont0= 0.5\n",
      "Potencia del seno cont1= 0.49949999999999917\n",
      "Potencia del seno cont2= 0.5000000000000004\n"
     ]
    }
   ],
   "source": [
    "#%% Potencia de mi señal\n",
    "#Este es el valor de la energia en el tiempo, se debe repetir en frecuencia\n",
    "#por Parseval asique lo puedo usar para normalizar o comparar que este todo bien\n",
    "#No olvidar el tema de la cantidad de muestras\n",
    "E0=1/N*sum(np.abs(seno_cont0)**2)\n",
    "print(\"Potencia del seno cont0=\",E0)\n",
    "E1=1/N*sum(np.abs(seno_cont1)**2)\n",
    "print(\"Potencia del seno cont1=\",E1)\n",
    "E2=1/N*sum(np.abs(seno_cont2)**2)\n",
    "print(\"Potencia del seno cont2=\",E2)"
   ]
  },
  {
   "cell_type": "code",
   "execution_count": 74,
   "id": "3af4241e",
   "metadata": {},
   "outputs": [
    {
     "name": "stdout",
     "output_type": "stream",
     "text": [
      "Potencia= 1.0\n",
      "Potencia= 0.999999999998768\n",
      "Potencia= 0.9999980125269948\n"
     ]
    }
   ],
   "source": [
    "#%%Normalizo la señal\n",
    "sin_nom0=seno_cont0/np.sqrt(E0)\n",
    "print(\"Potencia=\",np.var(sin_nom0))\n",
    "sin_nom1=seno_cont1/np.sqrt(E1)\n",
    "print(\"Potencia=\",np.var(sin_nom1))\n",
    "sin_nom2=seno_cont2/np.sqrt(E2)\n",
    "print(\"Potencia=\",np.var(sin_nom2))"
   ]
  },
  {
   "cell_type": "code",
   "execution_count": 75,
   "id": "795e6c48",
   "metadata": {},
   "outputs": [
    {
     "name": "stdout",
     "output_type": "stream",
     "text": [
      "Potencia en tiempo= 0.5 Potencia en frec= 0.9999999999999996 para señal 0\n",
      "Potencia en tiempo= 0.49949999999999917 Potencia en frec= 1.0000000000000009 para señal 1\n",
      "Potencia en tiempo= 0.5000000000000004 Potencia en frec= 0.9999999999999991 para señal 2\n"
     ]
    }
   ],
   "source": [
    "#%% Calculo la densidad espectral de potencia\n",
    "#Si integro estas funciones densisdad tendrian que ser iguales a sus correspondientes\n",
    "#Energias en tiempo\n",
    "DEP0=np.abs(1/N*fft(sin_nom0))**2\n",
    "DEP1=np.abs(1/N*fft(sin_nom1))**2\n",
    "DEP2=np.abs(1/N*fft(sin_nom2))**2\n",
    "\n",
    "DEP0_int=sum(DEP0)\n",
    "print(\"Potencia en tiempo=\",E0,\"Potencia en frec=\",DEP0_int,\"para señal 0\")\n",
    "DEP1_int=sum(DEP1)\n",
    "print(\"Potencia en tiempo=\",E1,\"Potencia en frec=\",DEP1_int,\"para señal 1\")\n",
    "DEP2_int=sum(DEP2)\n",
    "print(\"Potencia en tiempo=\",E2,\"Potencia en frec=\",DEP2_int,\"para señal 2\")"
   ]
  },
  {
   "cell_type": "code",
   "execution_count": 76,
   "id": "7df15d50",
   "metadata": {},
   "outputs": [
    {
     "data": {
      "image/png": "[encoded data removed]",
      "text/plain": [
       "<Figure size 432x288 with 1 Axes>"
      ]
     },
     "metadata": {
      "needs_background": "light"
     },
     "output_type": "display_data"
    },
    {
     "data": {
      "image/png": "[encoded data removed]",
      "text/plain": [
       "<Figure size 432x288 with 1 Axes>"
      ]
     },
     "metadata": {
      "needs_background": "light"
     },
     "output_type": "display_data"
    },
    {
     "data": {
      "image/png": "[encoded data removed]",
      "text/plain": [
       "<Figure size 432x288 with 1 Axes>"
      ]
     },
     "metadata": {
      "needs_background": "light"
     },
     "output_type": "display_data"
    }
   ],
   "source": [
    "#%% Muestro las DEP o PSD power spectral density\n",
    "\n",
    "plt.figure(1)\n",
    "#Como muestro la mitad de las frecuencias hago el doble la DEP\n",
    "plt.plot(f, 2*DEP0)\n",
    "plt.title(\"DEP0\")\n",
    "plt.ylabel(\"Potencia[W]\")\n",
    "plt.xlabel(\"frec[Hz]\")\n",
    "plt.xlim(0, fs/2)\n",
    "\n",
    "plt.figure(2)\n",
    "#Como muestro la mitad de las frecuencias hago el doble la DEP\n",
    "plt.plot(f, 2*DEP1)\n",
    "plt.title(\"DEP1\")\n",
    "plt.ylabel(\"Potencia[W]\")\n",
    "plt.xlabel(\"frec[Hz]\")\n",
    "plt.xlim(0, fs/2)\n",
    "\n",
    "plt.figure(3)\n",
    "#Como muestro la mitad de las frecuencias hago el doble la DEP\n",
    "plt.plot(f, 2*DEP2)\n",
    "plt.title(\"DEP2\")\n",
    "plt.ylabel(\"Potencia[W]\")\n",
    "plt.xlabel(\"frec[Hz]\")\n",
    "plt.xlim(0, fs/2)\n",
    "\n",
    "\n",
    "plt.show()"
   ]
  },
  {
   "cell_type": "markdown",
   "id": "b8edb322",
   "metadata": {},
   "source": [
    "De los graficos anteriores no se puede apreciar casi nada vamos a hacer zoom en la proximidad de la señal"
   ]
  },
  {
   "cell_type": "code",
   "execution_count": 77,
   "id": "e87397cc",
   "metadata": {},
   "outputs": [
    {
     "data": {
      "image/png": "[encoded data removed]",
      "text/plain": [
       "<Figure size 432x288 with 1 Axes>"
      ]
     },
     "metadata": {
      "needs_background": "light"
     },
     "output_type": "display_data"
    },
    {
     "data": {
      "image/png": "[encoded data removed]",
      "text/plain": [
       "<Figure size 432x288 with 1 Axes>"
      ]
     },
     "metadata": {
      "needs_background": "light"
     },
     "output_type": "display_data"
    },
    {
     "data": {
      "image/png": "[encoded data removed]",
      "text/plain": [
       "<Figure size 432x288 with 1 Axes>"
      ]
     },
     "metadata": {
      "needs_background": "light"
     },
     "output_type": "display_data"
    }
   ],
   "source": [
    "plt.figure(1)\n",
    "\n",
    "plt.stem(f, 2*DEP0)\n",
    "plt.title(\"DEP0\")\n",
    "plt.ylabel(\"Potencia[W]\")\n",
    "plt.xlabel(\"frec[Hz]\")\n",
    "plt.xlim(245, 255)\n",
    "\n",
    "plt.figure(2)\n",
    "plt.stem(f, 2*DEP1)\n",
    "plt.title(\"DEP1\")\n",
    "plt.ylabel(\"Potencia[W]\")\n",
    "plt.xlabel(\"frec[Hz]\")\n",
    "plt.xlim(245, 255)\n",
    "\n",
    "plt.figure(3)\n",
    "\n",
    "plt.stem(f, 2*DEP2)\n",
    "plt.title(\"DEP2\")\n",
    "plt.ylabel(\"Potencia[W]\")\n",
    "plt.xlabel(\"frec[Hz]\")\n",
    "plt.xlim(245, 255)\n",
    "\n",
    "\n",
    "plt.show()"
   ]
  },
  {
   "cell_type": "markdown",
   "id": "8aef2646",
   "metadata": {},
   "source": [
    "Ahora si a partir de estos graficos de las PSD(power spectral density) es evidente que estos desfasajes que computamos en $\\Delta f$ estan generando un desparramo de la potencia en otras frecuencias.<br>\n",
    "Con respecto al punto B) ya se verifico que se conservo la potencia de las señales pero las misma no fueron generadas con potencia unitaria sino que se utilizo esa potencia para normalizar estos graficos. Por otra parte entiendo que estas diferencias en los graficos nacen a partir del hecho de que mi resolucion espectral no varia para las 3 señales, y por ende algunos graficos se ajustan mejor a esa resolucion y otros no."
   ]
  },
  {
   "cell_type": "code",
   "execution_count": 78,
   "id": "72b06ea5",
   "metadata": {},
   "outputs": [],
   "source": [
    "#%%Armo los nuevos vectores f\n",
    "N_prima=9*N\n",
    "df_prima=fs/N_prima\n",
    "f_prima=np.arange(0,fs,df_prima)"
   ]
  },
  {
   "cell_type": "code",
   "execution_count": 79,
   "id": "1dca2153",
   "metadata": {},
   "outputs": [],
   "source": [
    "#%%Aplico el zero padding solicitado en el bonus\n",
    "#np.abs(1/N*fft(sin_nom0))**2\n",
    "DEP0_prima=np.abs(1/N_prima*fft(seno_cont0,n=N_prima))**2\n",
    "DEP1_prima=np.abs(1/N_prima*fft(seno_cont1,n=N_prima))**2\n",
    "DEP2_prima=np.abs(1/N_prima*fft(seno_cont2,n=N_prima))**2"
   ]
  },
  {
   "cell_type": "code",
   "execution_count": 80,
   "id": "a4f8c4e8",
   "metadata": {},
   "outputs": [
    {
     "name": "stdout",
     "output_type": "stream",
     "text": [
      "Potencia= 0.055555555555555594\n",
      "Potencia= 0.05549999999999988\n",
      "Potencia= 0.055555555555555566\n"
     ]
    },
    {
     "data": {
      "image/png": "[encoded data removed]",
      "text/plain": [
       "<Figure size 432x288 with 1 Axes>"
      ]
     },
     "metadata": {
      "needs_background": "light"
     },
     "output_type": "display_data"
    },
    {
     "data": {
      "image/png": "[encoded data removed]",
      "text/plain": [
       "<Figure size 432x288 with 1 Axes>"
      ]
     },
     "metadata": {
      "needs_background": "light"
     },
     "output_type": "display_data"
    },
    {
     "data": {
      "image/png": "[encoded data removed]",
      "text/plain": [
       "<Figure size 432x288 with 1 Axes>"
      ]
     },
     "metadata": {
      "needs_background": "light"
     },
     "output_type": "display_data"
    }
   ],
   "source": [
    "#%% Muestro las DEP o PSD power spectral density\n",
    "plt.figure(1)\n",
    "\n",
    "plt.stem(f_prima, DEP0_prima,linefmt='red', markerfmt='D')\n",
    "plt.title(\"DEP0\")\n",
    "plt.ylabel(\"Potencia[W]\")\n",
    "plt.xlabel(\"frec[Hz]\")\n",
    "#plt.xlim(240, 260)\n",
    "print(\"Potencia=\",sum(DEP0_prima))\n",
    "\n",
    "plt.figure(2)\n",
    "plt.stem(f_prima, DEP1_prima,linefmt='red', markerfmt='D')\n",
    "plt.title(\"DEP1\")\n",
    "plt.ylabel(\"Potencia[W]\")\n",
    "plt.xlabel(\"frec[Hz]\")\n",
    "#plt.xlim(240, 260)\n",
    "print(\"Potencia=\",sum(DEP1_prima))\n",
    "\n",
    "plt.figure(3)\n",
    "plt.stem(f_prima, DEP2_prima,linefmt='red', markerfmt='D')\n",
    "plt.title(\"DEP2\")\n",
    "plt.ylabel(\"Potencia[W]\")\n",
    "plt.xlabel(\"frec[Hz]\")\n",
    "#plt.xlim(240, 260)\n",
    "print(\"Potencia=\",sum(DEP2_prima))\n",
    "\n",
    "plt.show()"
   ]
  },
  {
   "cell_type": "markdown",
   "id": "8e7b305d",
   "metadata": {},
   "source": [
    "Es evidente que el zero padding soluciono casos como el de la DEP2 que ahora muestra mejor su altura(potencia), ya que se mejoro la resolucion espectral, sin embargo nos agrega un deparramo o leakage en DEP0 y DEP1 que antes no estaba.<br>\n",
    "Valga la aclaracion, entiendo que DEP1 engancho tan bien porque es un multiplo de mi $\\Delta f$.<br>\n",
    "Me puedo equivocar jejejej."
   ]
  },
  {
   "cell_type": "code",
   "execution_count": null,
   "id": "f2cf1ade",
   "metadata": {},
   "outputs": [],
   "source": []
  }
 ],
 "metadata": {
  "kernelspec": {
   "display_name": "Python 3 (ipykernel)",
   "language": "python",
   "name": "python3"
  },
  "language_info": {
   "codemirror_mode": {
    "name": "ipython",
    "version": 3
   },
   "file_extension": ".py",
   "mimetype": "text/x-python",
   "name": "python",
   "nbconvert_exporter": "python",
   "pygments_lexer": "ipython3",
   "version": "3.8.8"
  },
  "varInspector": {
   "cols": {
    "lenName": 16,
    "lenType": 16,
    "lenVar": 40
   },
   "kernels_config": {
    "python": {
     "delete_cmd_postfix": "",
     "delete_cmd_prefix": "del ",
     "library": "var_list.py",
     "varRefreshCmd": "print(var_dic_list())"
    },
    "r": {
     "delete_cmd_postfix": ") ",
     "delete_cmd_prefix": "rm(",
     "library": "var_list.r",
     "varRefreshCmd": "cat(var_dic_list()) "
    }
   },
   "types_to_exclude": [
    "module",
    "function",
    "builtin_function_or_method",
    "instance",
    "_Feature"
   ],
   "window_display": false
  }
 },
 "nbformat": 4,
 "nbformat_minor": 5
}
